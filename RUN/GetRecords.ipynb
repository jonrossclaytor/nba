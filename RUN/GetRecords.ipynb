{
 "cells": [
  {
   "cell_type": "code",
   "execution_count": 1,
   "metadata": {
    "collapsed": false
   },
   "outputs": [],
   "source": [
    "import sqlite3, datetime\n",
    "\n",
    "yesterday = (datetime.date.today() + datetime.timedelta(days=-1)) \n",
    "#yesterday = datetime.datetime.strptime('2013-03-07', '%Y-%m-%d')\n",
    "\n",
    "if datetime.date.today().month > 9:\n",
    "    season = datetime.date.today().year + 1\n",
    "else:\n",
    "    season = datetime.date.today().year\n",
    "\n",
    "con = sqlite3.connect('C:\\\\NBA\\\\nba.db')\n",
    "cur = con.cursor()\n",
    "cur2 = con.cursor()\n",
    "cur3 = con.cursor()\n",
    "\n",
    "cur.execute(\"\"\"\n",
    "            SELECT DISTINCT player_id, game_id \n",
    "            FROM player_stats\n",
    "            WHERE player_id IN\n",
    "            (\n",
    "            SELECT DISTINCT player_id\n",
    "            FROM \n",
    "            (\n",
    "            SELECT player_id, COUNT(*) \n",
    "            FROM player_stats \n",
    "            GROUP BY player_id \n",
    "            HAVING COUNT(*) > 19\n",
    "            ) tab\n",
    "            )\n",
    "            AND game_date = '\"\"\" + yesterday.strftime(\"%Y-%m-%d\") + \"'\"\n",
    "            )\n",
    "\n",
    "\n",
    "for game in cur:\n",
    "    player_id = str(game[0])\n",
    "    game_id = str(game[1])\n",
    "    query = open('C:\\\\NBA\\\\SQL\\\\records_template.sql','r')\n",
    "    query = query.read()\n",
    "    query_new = query.replace('<player_id>',player_id)\n",
    "    query_new = query_new.replace('<game_id>',str(game_id))\n",
    "    \n",
    "    cur2.execute(query_new)\n",
    "    for record in cur2:\n",
    "        record = list(record)\n",
    "        record.append(season)\n",
    "        record = tuple(record)\n",
    "        \n",
    "        cur3.execute('INSERT INTO records VALUES(?' + ',?'*84 + ')',record)\n",
    "\n",
    "    con.commit()    # commit inserted rows\n",
    "con.close()\n",
    "            "
   ]
  },
  {
   "cell_type": "code",
   "execution_count": null,
   "metadata": {
    "collapsed": true
   },
   "outputs": [],
   "source": []
  }
 ],
 "metadata": {
  "anaconda-cloud": {},
  "kernelspec": {
   "display_name": "Python [Root]",
   "language": "python",
   "name": "Python [Root]"
  },
  "language_info": {
   "codemirror_mode": {
    "name": "ipython",
    "version": 2
   },
   "file_extension": ".py",
   "mimetype": "text/x-python",
   "name": "python",
   "nbconvert_exporter": "python",
   "pygments_lexer": "ipython2",
   "version": "2.7.12"
  }
 },
 "nbformat": 4,
 "nbformat_minor": 0
}
