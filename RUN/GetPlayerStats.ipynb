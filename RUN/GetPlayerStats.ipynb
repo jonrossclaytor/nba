{
 "cells": [
  {
   "cell_type": "code",
   "execution_count": 5,
   "metadata": {
    "collapsed": false,
    "scrolled": true
   },
   "outputs": [],
   "source": [
    "import sqlite3\n",
    "import time, datetime\n",
    "import sys\n",
    "\n",
    "yesterday = (datetime.date.today() + datetime.timedelta(days=-1)) \n",
    "#yesterday = datetime.datetime.strptime('2016-11-15', '%Y-%m-%d')\n",
    "\n",
    "# connect to database \n",
    "con = sqlite3.connect('C:\\\\NBA\\\\nba.db')\n",
    "cur = con.cursor()\n",
    "cur2 = con.cursor()\n",
    "cur3 = con.cursor()\n",
    "cur4 = con.cursor()\n",
    "\n",
    "\n",
    "cur.execute(\"SELECT DISTINCT player_id FROM games WHERE game_date = '\" + yesterday.strftime(\"%Y-%m-%d\") + \"'\")\n",
    "\n",
    "for player in cur:\n",
    "\n",
    "    cur2.execute(\"SELECT DISTINCT game_id, game_date, season FROM games WHERE player_id = '\" + player[0] + \"' AND game_date = '\" + yesterday.strftime(\"%Y-%m-%d\") + \"'\")\n",
    "    for game in cur2:\n",
    "        game_id = str(game[0])\n",
    "        game_date = str(game[1])\n",
    "        season = str(game[2])\n",
    "        query = open('C:\\\\NBA\\\\SQL\\\\player_template.sql','r')\n",
    "        query = query.read()\n",
    "\n",
    "        query_new = query.replace('<player>',player[0])\n",
    "        query_new = query_new.replace('<season>',season)\n",
    "        query_new = query_new.replace('<game_date>',str(game_date))\n",
    "        cur3.execute(query_new)\n",
    "        game_insert = [player[0], game_id, season, game_date]\n",
    "        for game in cur3:\n",
    "            game = list(game)\n",
    "            for item in game:\n",
    "                game_insert.append(item)\n",
    "            #print game_insert\n",
    "            cur4.execute('INSERT INTO player_stats VALUES(?' + ',?'*48 + ')',game_insert)\n",
    "    con.commit()    # commit inserted rows\n",
    "\n",
    "con.close()\n",
    "            \n"
   ]
  },
  {
   "cell_type": "code",
   "execution_count": null,
   "metadata": {
    "collapsed": true
   },
   "outputs": [],
   "source": []
  }
 ],
 "metadata": {
  "anaconda-cloud": {},
  "kernelspec": {
   "display_name": "Python [Root]",
   "language": "python",
   "name": "Python [Root]"
  },
  "language_info": {
   "codemirror_mode": {
    "name": "ipython",
    "version": 2
   },
   "file_extension": ".py",
   "mimetype": "text/x-python",
   "name": "python",
   "nbconvert_exporter": "python",
   "pygments_lexer": "ipython2",
   "version": "2.7.12"
  }
 },
 "nbformat": 4,
 "nbformat_minor": 0
}
